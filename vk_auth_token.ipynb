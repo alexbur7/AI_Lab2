{
 "cells": [
  {
   "cell_type": "code",
   "execution_count": 4,
   "id": "8ed51de6-444f-4cd8-b889-5bcf3ab27d58",
   "metadata": {},
   "outputs": [],
   "source": [
    "import requests\n",
    "\n",
    "client_id = \"\"\n",
    "client_secret = \"\"\n",
    "redirect_uri = \"https://oauth.vk.com/blank.html\" # если нет своей урлы, эту по дефолту можно ставить\n",
    "authorization_code = \"\" # сюда подставить код из файла vk_auth_code после авторизации\n",
    "\n",
    "# Обменяйте временный код на access_token\n",
    "access_token_url = \"https://oauth.vk.com/access_token\"\n",
    "access_token_params = {\n",
    "    \"client_id\": client_id,\n",
    "    \"client_secret\": client_secret,\n",
    "    \"redirect_uri\": redirect_uri,\n",
    "    \"code\": authorization_code\n",
    "}\n",
    "access_token_response = requests.get(access_token_url, params=access_token_params)\n",
    "access_token = access_token_response.json()[\"access_token\"]\n",
    "print(access_token)"
   ]
  },
  {
   "cell_type": "code",
   "execution_count": null,
   "id": "fc30060e-bc00-4992-8971-068bc7398f7e",
   "metadata": {},
   "outputs": [],
   "source": []
  }
 ],
 "metadata": {
  "kernelspec": {
   "display_name": "Python 3 (ipykernel)",
   "language": "python",
   "name": "python3"
  },
  "language_info": {
   "codemirror_mode": {
    "name": "ipython",
    "version": 3
   },
   "file_extension": ".py",
   "mimetype": "text/x-python",
   "name": "python",
   "nbconvert_exporter": "python",
   "pygments_lexer": "ipython3",
   "version": "3.9.12"
  }
 },
 "nbformat": 4,
 "nbformat_minor": 5
}
