{
 "cells": [
  {
   "cell_type": "code",
   "execution_count": null,
   "id": "79a10264-e124-4593-aa4b-9b7b036ba481",
   "metadata": {
    "collapsed": true,
    "jupyter": {
     "outputs_hidden": true
    },
    "tags": []
   },
   "outputs": [
    {
     "name": "stdout",
     "output_type": "stream",
     "text": [
      "https://oauth.vk.com/authorize?client_id=51765004&redirect_uri=https%3A%2F%2Foauth.vk.com%2Fblank.html&response_type=code&scope=friends&v=5.131\n"
     ]
    }
   ],
   "source": [
    "import requests\n",
    "\n",
    "# Введите ваш client_id и client_secret\n",
    "client_id = \"\"\n",
    "client_secret = \"\"\n",
    "redirect_uri = \"https://oauth.vk.com/blank.html\" # если нет своей урлы, эту по дефолту можно ставить\n",
    "\n",
    "# Запросите временный код\n",
    "params = {\n",
    "    \"client_id\": client_id,\n",
    "    \"redirect_uri\": redirect_uri,\n",
    "    \"response_type\": \"code\",\n",
    "    \"scope\": \"friends\",  # Укажите требуемые права доступа\n",
    "    \"v\": \"5.131\"  # Версия API\n",
    "}\n",
    "authorization_url = \"https://oauth.vk.com/authorize\"\n",
    "authorization_response = requests.get(authorization_url, params=params)\n",
    "print(authorization_response.url)"
   ]
  },
  {
   "cell_type": "code",
   "execution_count": null,
   "id": "211b4d4d-60cf-4c73-ae1a-ecff4f48c223",
   "metadata": {},
   "outputs": [],
   "source": []
  }
 ],
 "metadata": {
  "kernelspec": {
   "display_name": "Python 3 (ipykernel)",
   "language": "python",
   "name": "python3"
  },
  "language_info": {
   "codemirror_mode": {
    "name": "ipython",
    "version": 3
   },
   "file_extension": ".py",
   "mimetype": "text/x-python",
   "name": "python",
   "nbconvert_exporter": "python",
   "pygments_lexer": "ipython3",
   "version": "3.9.12"
  }
 },
 "nbformat": 4,
 "nbformat_minor": 5
}
